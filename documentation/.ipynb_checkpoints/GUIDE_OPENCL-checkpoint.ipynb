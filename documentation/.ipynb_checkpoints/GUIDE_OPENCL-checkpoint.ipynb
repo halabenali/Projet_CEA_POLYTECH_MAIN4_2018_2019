{
 "cells": [
  {
   "cell_type": "markdown",
   "metadata": {},
   "source": [
    "<div style=\"display:flex; justify-content: space-between;\">\n",
    "    <img src=\"https://pbs.twimg.com/profile_images/938422402702368769/w7bZ9drA_400x400.jpg\" alt=\"logo Polytech Sorbonne\" style=\"max-height:160px;margin-left:0;\">\n",
    "    <img src=\"https://upload.wikimedia.org/wikipedia/fr/thumb/0/09/CEA_logotype2012.png/250px-CEA_logotype2012.png\" alt=\"logo du CEA\" style=\"max-height:100px;margin-right:30px;\">\n",
    "</div>\n",
    "<h1><center>GUIDE D'UTILISATION D'OPENCL</center></h1>\n",
    "<div>\n",
    "    <center>\n",
    "        <ul>\n",
    "            <li style=\"display:inline-block; margin:0 ;\">Hala Ben Ali |</li>\n",
    "            <li style=\"display:inline-block; margin:0 ;\">Assef Boina |</li>\n",
    "            <li style=\"display:inline-block; margin:0 ;\">Adjanie Kamgang |</li>\n",
    "            <li style=\"display:inline-block; margin:0 ;\">Guillaume Nguyen |</li>\n",
    "            <li style=\"display:inline-block; margin:0 ;\">Thizirie Ould Amer |</li>\n",
    "            <li style=\"display:inline-block; margin:0 ;\">Jordy Ajanohoun</li>\n",
    "        </ul>\n",
    "        <ul>\n",
    "            <li style=\"display:inline-block; margin:0 10px;\">Encadrants CEA :</li>\n",
    "            <li style=\"display:inline-block; margin:0 10px;\">Lilia Zaourar</li>\n",
    "            <li style=\"display:inline-block; margin:0 10px;\">Massinissa Ait Aba</li>\n",
    "        </ul>\n",
    "    </center>\n",
    "</div>\n",
    "<section style=\"margin-top:50px;\">\n",
    "    <h2>Installation</h2>\n",
    "    <h3>Linux</h3>\n",
    "    <p style=\"font-size: 16px;\"> Un tutoriel est disponible ici : \n",
    "        <a href=\"https://wiki.tiker.net/OpenCLHowTo\" title=\"tutoriel d'installation d'opencl sur linux\" target=\"_BLANK\">How to set up OpenCL in Linux\n",
    "        </a>\n",
    "    </p>\n",
    "    <h3>Mac OS</h3>\n",
    "    <h3>Windows</h3>\n",
    "</section>"
   ]
  },
  {
   "cell_type": "code",
   "execution_count": null,
   "metadata": {},
   "outputs": [],
   "source": []
  }
 ],
 "metadata": {
  "kernelspec": {
   "display_name": "Bash",
   "language": "bash",
   "name": "bash"
  },
  "language_info": {
   "codemirror_mode": "shell",
   "file_extension": ".sh",
   "mimetype": "text/x-sh",
   "name": "bash"
  }
 },
 "nbformat": 4,
 "nbformat_minor": 2
}
